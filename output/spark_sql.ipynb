{
 "cells": [
  {
   "attachments": {},
   "cell_type": "markdown",
   "metadata": {},
   "source": [
    "# Data discovery: Spark SQL"
   ]
  },
  {
   "cell_type": "code",
   "execution_count": 1,
   "metadata": {},
   "outputs": [],
   "source": [
    "import logging\n",
    "from pyspark.sql import SparkSession"
   ]
  },
  {
   "attachments": {},
   "cell_type": "markdown",
   "metadata": {},
   "source": [
    "## Create Spark Session. Remember this is our entry point for Dataframes or Datasets, not RDDs"
   ]
  },
  {
   "cell_type": "code",
   "execution_count": 2,
   "metadata": {},
   "outputs": [],
   "source": [
    "#  This fn creates a Spark RDD, loads it into a Spark DataFrame, and returns the DataFrame\n",
    "def rdd_to_dataframe(data, schema):        \n",
    "    # Create a SparkSession\n",
    "    spark = SparkSession.builder.appName(\"RDDToDataFrame\").getOrCreate()\n",
    "\n",
    "    try:\n",
    "        # Create an RDD from the input data, using Spark Context not Session!\n",
    "        rdd = spark.sparkContext.parallelize(data)\n",
    "\n",
    "        # Convert RDD to DataFrame\n",
    "        df = spark.createDataFrame(rdd, schema)\n",
    "\n",
    "        # Return the DataFrame, without stopping the SparkSession\n",
    "        return df\n",
    "\n",
    "    except Exception as e:\n",
    "        # Log error and Stop the SparkSession\n",
    "        logging.error('Error while transforming RDD to DF: {}'.format(e))\n",
    "        spark.stop()\n"
   ]
  },
  {
   "cell_type": "code",
   "execution_count": 3,
   "metadata": {},
   "outputs": [],
   "source": [
    "# Data sample\n",
    "dept_data = [(1,\"Big Data\"), (2, \"Finance\"), (3,\"Marketing\")]\n",
    "dept_schema = [\"department_id\", \"department_name\"]"
   ]
  },
  {
   "cell_type": "code",
   "execution_count": 4,
   "metadata": {},
   "outputs": [],
   "source": [
    "# Data sample\n",
    "emp_data = [(1,\"Carlos\", 17), (1,\"Bob\", 30), (2,\"Jasmin\", 26),(3,\"Nishi\", 36)]\n",
    "emp_schema = [\"department_id\",\"employee_name\", \"age\"]"
   ]
  },
  {
   "attachments": {},
   "cell_type": "markdown",
   "metadata": {},
   "source": [
    "---"
   ]
  },
  {
   "attachments": {},
   "cell_type": "markdown",
   "metadata": {},
   "source": [
    "## Let's now use the Spark RDD as a Spark Dataframe"
   ]
  },
  {
   "cell_type": "code",
   "execution_count": 5,
   "metadata": {},
   "outputs": [
    {
     "name": "stderr",
     "output_type": "stream",
     "text": [
      "Setting default log level to \"WARN\".\n",
      "To adjust logging level use sc.setLogLevel(newLevel). For SparkR, use setLogLevel(newLevel).\n"
     ]
    },
    {
     "name": "stdout",
     "output_type": "stream",
     "text": [
      "23/08/20 13:10:06 WARN NativeCodeLoader: Unable to load native-hadoop library for your platform... using builtin-java classes where applicable\n"
     ]
    },
    {
     "name": "stderr",
     "output_type": "stream",
     "text": [
      "                                                                                \r"
     ]
    }
   ],
   "source": [
    "# Call function, to transform RDD into DF\n",
    "df_emp = rdd_to_dataframe(emp_data, emp_schema)\n",
    "df_dept = rdd_to_dataframe(dept_data, dept_schema)"
   ]
  },
  {
   "cell_type": "code",
   "execution_count": 6,
   "metadata": {},
   "outputs": [
    {
     "name": "stdout",
     "output_type": "stream",
     "text": [
      "+-------------+---------------+\n",
      "|department_id|department_name|\n",
      "+-------------+---------------+\n",
      "|            1|       Big Data|\n",
      "|            2|        Finance|\n",
      "|            3|      Marketing|\n",
      "+-------------+---------------+\n",
      "\n"
     ]
    }
   ],
   "source": [
    "# Show schema\n",
    "df_dept.show()"
   ]
  },
  {
   "attachments": {},
   "cell_type": "markdown",
   "metadata": {},
   "source": [
    "## Use Spark SQL, to join 2 datasets"
   ]
  },
  {
   "cell_type": "code",
   "execution_count": 7,
   "metadata": {},
   "outputs": [],
   "source": [
    "# Do we have a session running?\n",
    "spark = SparkSession.builder.appName(\"RDDToDataFrame\").getOrCreate()"
   ]
  },
  {
   "cell_type": "code",
   "execution_count": 8,
   "metadata": {},
   "outputs": [],
   "source": [
    "# Register as view\n",
    "df_emp.createOrReplaceTempView('employees')\n",
    "df_dept.createOrReplaceTempView('departments')"
   ]
  },
  {
   "cell_type": "code",
   "execution_count": 9,
   "metadata": {},
   "outputs": [
    {
     "name": "stderr",
     "output_type": "stream",
     "text": [
      "[Stage 8:>                                                          (0 + 8) / 8]\r"
     ]
    },
    {
     "name": "stdout",
     "output_type": "stream",
     "text": [
      "+-------------+-------------+---+-------------+---------------+\n",
      "|department_id|employee_name|age|department_id|department_name|\n",
      "+-------------+-------------+---+-------------+---------------+\n",
      "|            1|       Carlos| 17|            1|       Big Data|\n",
      "|            1|          Bob| 30|            1|       Big Data|\n",
      "|            2|       Jasmin| 26|            2|        Finance|\n",
      "|            3|        Nishi| 36|            3|      Marketing|\n",
      "+-------------+-------------+---+-------------+---------------+\n",
      "\n"
     ]
    },
    {
     "name": "stderr",
     "output_type": "stream",
     "text": [
      "                                                                                \r"
     ]
    }
   ],
   "source": [
    "# Query sample, using Spark SQL\n",
    "spark.sql('''\n",
    "            select emp.*, dept.*\n",
    "            from employees as emp\n",
    "                inner join departments as dept on (emp.department_id = dept.department_id) \n",
    "            ''').show()"
   ]
  },
  {
   "cell_type": "code",
   "execution_count": 10,
   "metadata": {},
   "outputs": [],
   "source": [
    "# Let's now save the JOINED RESULTSET into a new Temporary View -- NO WHERE CLAUSE\n",
    "spark.sql('''\n",
    "        select emp.employee_name, emp.age, emp.department_id, dept.department_name\n",
    "        from employees as emp\n",
    "            inner join departments as dept on (emp.department_id = dept.department_id)\n",
    "        ''').createOrReplaceTempView('dept_employees')"
   ]
  },
  {
   "attachments": {},
   "cell_type": "markdown",
   "metadata": {},
   "source": [
    "---"
   ]
  },
  {
   "attachments": {},
   "cell_type": "markdown",
   "metadata": {},
   "source": [
    "## Join a third dataset, but with a different format"
   ]
  },
  {
   "cell_type": "code",
   "execution_count": 11,
   "metadata": {},
   "outputs": [],
   "source": [
    "# Let's load the data first\n",
    "df_budgets = spark.read.option(\"multiline\",\"true\").json('datasets/json/department_budgets.json')"
   ]
  },
  {
   "cell_type": "code",
   "execution_count": 12,
   "metadata": {},
   "outputs": [
    {
     "name": "stdout",
     "output_type": "stream",
     "text": [
      "root\n",
      " |-- budget: long (nullable = true)\n",
      " |-- budget_authorizer: array (nullable = true)\n",
      " |    |-- element: struct (containsNull = true)\n",
      " |    |    |-- cto: struct (nullable = true)\n",
      " |    |    |    |-- last_name: string (nullable = true)\n",
      " |    |    |    |-- name: string (nullable = true)\n",
      " |    |    |    |-- office: string (nullable = true)\n",
      " |-- budget_period: string (nullable = true)\n",
      " |-- department_id: long (nullable = true)\n",
      " |-- offices: array (nullable = true)\n",
      " |    |-- element: struct (containsNull = true)\n",
      " |    |    |-- cost_center: struct (nullable = true)\n",
      " |    |    |    |-- budget_status: string (nullable = true)\n",
      " |    |    |    |-- office: string (nullable = true)\n",
      "\n"
     ]
    }
   ],
   "source": [
    "# Show schema\n",
    "df_budgets.printSchema()"
   ]
  },
  {
   "cell_type": "code",
   "execution_count": 13,
   "metadata": {},
   "outputs": [
    {
     "name": "stdout",
     "output_type": "stream",
     "text": [
      "+-------------------------------------------------------------------------+\n",
      "|offices                                                                  |\n",
      "+-------------------------------------------------------------------------+\n",
      "|[{{denied, new york}}, {{approved, mumbai}}, {{approved, san francisco}}]|\n",
      "+-------------------------------------------------------------------------+\n",
      "\n"
     ]
    }
   ],
   "source": [
    "# We can still query the data, using Json paths: \n",
    "df_budgets.select('offices').where('department_id == 1').show(truncate=False)"
   ]
  },
  {
   "attachments": {},
   "cell_type": "markdown",
   "metadata": {},
   "source": [
    "## Querying without flattening JSON"
   ]
  },
  {
   "cell_type": "code",
   "execution_count": 14,
   "metadata": {},
   "outputs": [],
   "source": [
    "# Register as Temporary View\n",
    "df_budgets.createOrReplaceTempView('budgets_json')"
   ]
  },
  {
   "cell_type": "code",
   "execution_count": 15,
   "metadata": {},
   "outputs": [
    {
     "name": "stdout",
     "output_type": "stream",
     "text": [
      "+-------------+-------------+------+-------------+--------+---------------+--------+---------------+-------------+---------------+-----------------+-----------------+\n",
      "|employee_name|department_id|budget|budget_period|office_1|budget_status_1|office_2|budget_status_2|     office_3|budget_status_3|         cto_name|    cto_last_name|\n",
      "+-------------+-------------+------+-------------+--------+---------------+--------+---------------+-------------+---------------+-----------------+-----------------+\n",
      "|       Carlos|            1| 16000|         year|new york|         denied|  mumbai|       approved|san francisco|       approved|no CTO registered|no CTO registered|\n",
      "|          Bob|            1| 16000|         year|new york|         denied|  mumbai|       approved|san francisco|       approved|no CTO registered|no CTO registered|\n",
      "|       Jasmin|            2| 23000|         year|    null|           null|    null|           null|         null|           null|              joe|              doe|\n",
      "|        Nishi|            3| 12000|         year|    null|           null|    null|           null|         null|           null|no CTO registered|no CTO registered|\n",
      "+-------------+-------------+------+-------------+--------+---------------+--------+---------------+-------------+---------------+-----------------+-----------------+\n",
      "\n"
     ]
    }
   ],
   "source": [
    "# Let's join the third dataset. \n",
    "spark.sql('''\n",
    "          select  emp.employee_name, \n",
    "                  emp.department_id, \n",
    "                  bud.budget, \n",
    "                  bud.budget_period, \n",
    "                  bud.offices[0].cost_center.office as office_1,\n",
    "                  bud.offices[0].cost_center.budget_status as budget_status_1,\n",
    "                  bud.offices[1].cost_center.office as office_2,\n",
    "                  bud.offices[1].cost_center.budget_status as budget_status_2,\n",
    "                  bud.offices[2].cost_center.office as office_3,\n",
    "                  bud.offices[2].cost_center.budget_status as budget_status_3,\n",
    "                  nvl(bud.budget_authorizer[0].cto.name,\"no CTO registered\")  as cto_name,\n",
    "                  nvl(bud.budget_authorizer[0].cto.last_name,\"no CTO registered\") as cto_last_name\n",
    "          from dept_employees as emp\n",
    "            inner join budgets_json as bud on (emp.department_id = bud.department_id)\n",
    "          ''').show()"
   ]
  },
  {
   "attachments": {},
   "cell_type": "markdown",
   "metadata": {},
   "source": [
    "## Flattening JSON into Columnar format is normally easier, cleaner and more scalable. \n",
    "- Suggestion: always test and benchmark performance, to compare Json Paths access vs. flattening"
   ]
  },
  {
   "cell_type": "code",
   "execution_count": 16,
   "metadata": {},
   "outputs": [],
   "source": [
    "import logging\n",
    "from pyspark.sql.types import ArrayType, StructType\n",
    "from pyspark.sql.functions import explode_outer, col"
   ]
  },
  {
   "attachments": {},
   "cell_type": "markdown",
   "metadata": {},
   "source": [
    "## There are tons of different approaches to flatten/explode JSON. This is just an example\n",
    "- Credits: Function adapted from [nmukerje/Pyspark Flatten json](https://bit.ly/43ZegOL) repo in GitHub"
   ]
  },
  {
   "cell_type": "code",
   "execution_count": 17,
   "metadata": {},
   "outputs": [],
   "source": [
    "# Spark function to flatten nested structs. Function adapted from GitHub: https://bit.ly/43ZegOL Spark dataframe with semi-structured types, \n",
    "# such as StructType or ArrayType return Spark dataframe\n",
    "def flatten_dataframe(df):\n",
    "    try:\n",
    "        # compute Complex Fields (Lists and Structs) in Schema   \n",
    "        complex_fields = dict([(field.name, field.dataType)\n",
    "                                    for field in df.schema.fields\n",
    "                                    if type(field.dataType) == ArrayType or  type(field.dataType) == StructType])\n",
    "            \n",
    "        while len(complex_fields)!=0:\n",
    "            col_name=list(complex_fields.keys())[0]\n",
    "            \n",
    "            # if StructType then convert all sub element to columns.\n",
    "            # i.e. flatten structs\n",
    "            if (type(complex_fields[col_name]) == StructType):\n",
    "                expanded = [col(col_name+'.'+k).alias(col_name+'_'+k) for k in [ n.name for n in  complex_fields[col_name]]]\n",
    "                df=df.select(\"*\", *expanded).drop(col_name)\n",
    "            \n",
    "            # if ArrayType then add the Array Elements as Rows using the explode function\n",
    "            # i.e. explode Arrays\n",
    "            elif (type(complex_fields[col_name]) == ArrayType):    \n",
    "                df=df.withColumn(col_name, explode_outer(col_name))\n",
    "            \n",
    "            # recompute remaining Complex Fields in Schema       \n",
    "            complex_fields = dict([(field.name, field.dataType)\n",
    "                                    for field in df.schema.fields\n",
    "                                    if type(field.dataType) == ArrayType or  type(field.dataType) == StructType])\n",
    "        return df\n",
    "    \n",
    "    except Exception as e:\n",
    "        logging.error('Error while flattening JSON data: {}'.format(e))"
   ]
  },
  {
   "cell_type": "code",
   "execution_count": 18,
   "metadata": {},
   "outputs": [],
   "source": [
    "# Let's now flatten the data.\n",
    "df_budgets_flat = flatten_dataframe(df_budgets) "
   ]
  },
  {
   "attachments": {},
   "cell_type": "markdown",
   "metadata": {},
   "source": [
    "## However, think about Data Duplication when unnesting data"
   ]
  },
  {
   "cell_type": "code",
   "execution_count": 19,
   "metadata": {},
   "outputs": [
    {
     "name": "stdout",
     "output_type": "stream",
     "text": [
      "+------+-------------+-------------+-------------------------------+--------------------------+----------------------------+---------------------------------+--------------------------+\n",
      "|budget|budget_period|department_id|budget_authorizer_cto_last_name|budget_authorizer_cto_name|budget_authorizer_cto_office|offices_cost_center_budget_status|offices_cost_center_office|\n",
      "+------+-------------+-------------+-------------------------------+--------------------------+----------------------------+---------------------------------+--------------------------+\n",
      "| 16000|         year|            1|                           null|                      null|                        null|                           denied|                  new york|\n",
      "| 16000|         year|            1|                           null|                      null|                        null|                         approved|                    mumbai|\n",
      "| 16000|         year|            1|                           null|                      null|                        null|                         approved|             san francisco|\n",
      "| 23000|         year|            2|                            doe|                       joe|                    new york|                             null|                      null|\n",
      "| 12000|         year|            3|                           null|                      null|                        null|                             null|                      null|\n",
      "+------+-------------+-------------+-------------------------------+--------------------------+----------------------------+---------------------------------+--------------------------+\n",
      "\n"
     ]
    }
   ],
   "source": [
    "# Show sample\n",
    "df_budgets_flat.show()"
   ]
  },
  {
   "cell_type": "code",
   "execution_count": 20,
   "metadata": {},
   "outputs": [
    {
     "name": "stdout",
     "output_type": "stream",
     "text": [
      "root\n",
      " |-- budget: long (nullable = true)\n",
      " |-- budget_period: string (nullable = true)\n",
      " |-- department_id: long (nullable = true)\n",
      " |-- budget_authorizer_cto_last_name: string (nullable = true)\n",
      " |-- budget_authorizer_cto_name: string (nullable = true)\n",
      " |-- budget_authorizer_cto_office: string (nullable = true)\n",
      " |-- offices_cost_center_budget_status: string (nullable = true)\n",
      " |-- offices_cost_center_office: string (nullable = true)\n",
      "\n"
     ]
    }
   ],
   "source": [
    "# New flatten schema\n",
    "df_budgets_flat.printSchema()"
   ]
  },
  {
   "cell_type": "code",
   "execution_count": 21,
   "metadata": {},
   "outputs": [],
   "source": [
    "# Same process: register JSON DF as Temporary View\n",
    "df_budgets_flat.createOrReplaceTempView('budgets_flat')"
   ]
  },
  {
   "cell_type": "code",
   "execution_count": 22,
   "metadata": {},
   "outputs": [
    {
     "name": "stdout",
     "output_type": "stream",
     "text": [
      "+-------------+---+-------------+---------------+\n",
      "|employee_name|age|department_id|department_name|\n",
      "+-------------+---+-------------+---------------+\n",
      "|       Carlos| 17|            1|       Big Data|\n",
      "|          Bob| 30|            1|       Big Data|\n",
      "|       Jasmin| 26|            2|        Finance|\n",
      "|        Nishi| 36|            3|      Marketing|\n",
      "+-------------+---+-------------+---------------+\n",
      "\n"
     ]
    }
   ],
   "source": [
    "# Let's join the third dataset\n",
    "spark.sql('''\n",
    "          select *\n",
    "          from dept_employees\n",
    "          ''').show()"
   ]
  },
  {
   "cell_type": "code",
   "execution_count": 23,
   "metadata": {},
   "outputs": [
    {
     "name": "stdout",
     "output_type": "stream",
     "text": [
      "23/08/20 13:10:23 WARN GarbageCollectionMetrics: To enable non-built-in garbage collector(s) List(G1 Concurrent GC), users should configure it(them) to spark.eventLog.gcMetrics.youngGenerationGarbageCollectors or spark.eventLog.gcMetrics.oldGenerationGarbageCollectors\n",
      "+-------------+-------------+---------------+------+-------------+--------------------------+--------------------------+\n",
      "|department_id|employee_name|department_name|budget|budget_period|offices_cost_center_office|budget_authorizer_cto_name|\n",
      "+-------------+-------------+---------------+------+-------------+--------------------------+--------------------------+\n",
      "|            1|       Carlos|       Big Data| 16000|         year|             san francisco|                      null|\n",
      "|            1|       Carlos|       Big Data| 16000|         year|                    mumbai|                      null|\n",
      "|            1|       Carlos|       Big Data| 16000|         year|                  new york|                      null|\n",
      "|            1|          Bob|       Big Data| 16000|         year|             san francisco|                      null|\n",
      "|            1|          Bob|       Big Data| 16000|         year|                    mumbai|                      null|\n",
      "|            1|          Bob|       Big Data| 16000|         year|                  new york|                      null|\n",
      "|            2|       Jasmin|        Finance| 23000|         year|                      null|                       joe|\n",
      "|            3|        Nishi|      Marketing| 12000|         year|                      null|                      null|\n",
      "+-------------+-------------+---------------+------+-------------+--------------------------+--------------------------+\n",
      "\n"
     ]
    }
   ],
   "source": [
    "# Let's join the third dataset\n",
    "spark.sql('''\n",
    "          select emp.department_id, emp.employee_name, emp.department_name, bud.budget, bud.budget_period, bud.offices_cost_center_office, bud.budget_authorizer_cto_name\n",
    "          from dept_employees as emp\n",
    "            inner join budgets_flat as bud on (emp.department_id = bud.department_id)\n",
    "          ''').show(n=50)"
   ]
  }
 ],
 "metadata": {
  "kernelspec": {
   "display_name": "venv",
   "language": "python",
   "name": "python3"
  },
  "language_info": {
   "codemirror_mode": {
    "name": "ipython",
    "version": 3
   },
   "file_extension": ".py",
   "mimetype": "text/x-python",
   "name": "python",
   "nbconvert_exporter": "python",
   "pygments_lexer": "ipython3",
   "version": "3.10.12"
  },
  "orig_nbformat": 4
 },
 "nbformat": 4,
 "nbformat_minor": 2
}
