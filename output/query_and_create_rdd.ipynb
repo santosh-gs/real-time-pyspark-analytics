{
 "cells": [
  {
   "attachments": {},
   "cell_type": "markdown",
   "metadata": {},
   "source": [
    "# Data discovery: Query and create RDD"
   ]
  },
  {
   "cell_type": "code",
   "execution_count": 1,
   "metadata": {},
   "outputs": [],
   "source": [
    "# Import library PySpark and use SparkContext\n",
    "from pyspark import SparkContext"
   ]
  },
  {
   "cell_type": "code",
   "execution_count": 2,
   "metadata": {},
   "outputs": [],
   "source": [
    "def word_count(file_path):\n",
    "    # Step 1: Create a SparkContext\n",
    "    sc = SparkContext(appName=\"WordCount\")\n",
    "\n",
    "    try:\n",
    "        # Step 2: Read the text file and split it into words\n",
    "        lines = sc.textFile(file_path)\n",
    "        words = lines.flatMap(lambda line: line.split(\" \"))\n",
    "\n",
    "        # Step 3: Count the occurrences of each word\n",
    "        word_counts = words.countByValue()\n",
    "\n",
    "        # Step 4: Print the word counts\n",
    "        for word, count in word_counts.items():\n",
    "            print(f\"{word}: {count}\")\n",
    "\n",
    "    finally:\n",
    "        # Step 5: Stop the SparkContext to release resources\n",
    "        sc.stop()\n"
   ]
  },
  {
   "cell_type": "code",
   "execution_count": null,
   "metadata": {},
   "outputs": [
    {
     "name": "stderr",
     "output_type": "stream",
     "text": [
      "                                                                                \r"
     ]
    },
    {
     "name": "stdout",
     "output_type": "stream",
     "text": [
      "Each: 1\n",
      "working: 1\n",
      "data: 2\n",
      "pipeline: 2\n",
      "is: 2\n",
      "designed: 1\n",
      "like: 1\n",
      "a: 1\n",
      "log;: 1\n",
      ": 2\n",
      "each: 1\n",
      "broken: 2\n",
      "in: 1\n",
      "its: 1\n",
      "own: 1\n",
      "way: 1\n",
      "-: 1\n",
      "Count: 1\n",
      "Leo: 1\n",
      "Tolstoy: 1\n"
     ]
    }
   ],
   "source": [
    "# Usage\n",
    "word_count(\"../datasets/text.txt\")"
   ]
  }
 ],
 "metadata": {
  "kernelspec": {
   "display_name": "venv",
   "language": "python",
   "name": "python3"
  },
  "language_info": {
   "codemirror_mode": {
    "name": "ipython",
    "version": 3
   },
   "file_extension": ".py",
   "mimetype": "text/x-python",
   "name": "python",
   "nbconvert_exporter": "python",
   "pygments_lexer": "ipython3",
   "version": "3.10.12"
  },
  "orig_nbformat": 4
 },
 "nbformat": 4,
 "nbformat_minor": 2
}
